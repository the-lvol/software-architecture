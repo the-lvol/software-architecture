{
 "cells": [
  {
   "cell_type": "code",
   "execution_count": 24,
   "metadata": {},
   "outputs": [
    {
     "name": "stdout",
     "output_type": "stream",
     "text": [
      "5658\n",
      "51\n"
     ]
    }
   ],
   "source": [
    "import json\n",
    "import os\n",
    "\n",
    "with open('./data/code-churn.json', 'r') as file:\n",
    "    code_churn = json.load(file)\n",
    "\n",
    "print(len(code_churn))\n",
    "\n",
    "code_test_coverage = {}\n",
    "\n",
    "for dirpath, dirnames, filenames in os.walk('./data/code-test-coverage'):\n",
    "    for filename in filenames:\n",
    "        with open(f'{dirpath}/{filename}') as file:\n",
    "            coverage = json.load(file)\n",
    "\n",
    "            for key in coverage:\n",
    "                if key != 'total':\n",
    "                    code_test_coverage['/'.join(key.split('/')[3:])] = coverage[key]\n",
    "\n",
    "print(len(code_test_coverage))\n"
   ]
  },
  {
   "cell_type": "code",
   "execution_count": 34,
   "metadata": {},
   "outputs": [
    {
     "name": "stdout",
     "output_type": "stream",
     "text": [
      "apps/studio/pages/project/[ref]/logs/storage-logs.tsx\n",
      "apps/docs/components/Navigation/NavigationMenu/NavigationMenu.constants.ts\n",
      "apps/studio/components/ui/ToastLoader.tsx\n",
      "studio/stores/app/PermissionsStore.ts\n",
      "apps/www/pages/pricing/index.tsx\n",
      "churn: 71, test coverage: {'lines': {'total': 19, 'covered': 16, 'skipped': 0, 'pct': 84.21}, 'functions': {'total': 0, 'covered': 0, 'skipped': 0, 'pct': 100}, 'statements': {'total': 31, 'covered': 16, 'skipped': 0, 'pct': 51.61}, 'branches': {'total': 4, 'covered': 2, 'skipped': 0, 'pct': 50}}\n",
      "churn: 57, test coverage: {'lines': {'total': 5, 'covered': 5, 'skipped': 0, 'pct': 100}, 'functions': {'total': 0, 'covered': 0, 'skipped': 0, 'pct': 100}, 'statements': {'total': 5, 'covered': 5, 'skipped': 0, 'pct': 100}, 'branches': {'total': 0, 'covered': 0, 'skipped': 0, 'pct': 100}}\n",
      "churn: 53, test coverage: {'lines': {'total': 131, 'covered': 34, 'skipped': 0, 'pct': 25.95}, 'functions': {'total': 30, 'covered': 4, 'skipped': 0, 'pct': 13.33}, 'statements': {'total': 162, 'covered': 36, 'skipped': 0, 'pct': 22.22}, 'branches': {'total': 63, 'covered': 3, 'skipped': 0, 'pct': 4.76}}\n",
      "churn: 45, test coverage: {'lines': {'total': 6, 'covered': 6, 'skipped': 0, 'pct': 100}, 'functions': {'total': 0, 'covered': 0, 'skipped': 0, 'pct': 100}, 'statements': {'total': 11, 'covered': 7, 'skipped': 0, 'pct': 63.63}, 'branches': {'total': 0, 'covered': 0, 'skipped': 0, 'pct': 100}}\n",
      "churn: 42, test coverage: {'lines': {'total': 99, 'covered': 25, 'skipped': 0, 'pct': 25.25}, 'functions': {'total': 15, 'covered': 3, 'skipped': 0, 'pct': 20}, 'statements': {'total': 110, 'covered': 27, 'skipped': 0, 'pct': 24.54}, 'branches': {'total': 109, 'covered': 20, 'skipped': 0, 'pct': 18.34}}\n",
      "churn: 42, test coverage: {'lines': {'total': 44, 'covered': 20, 'skipped': 0, 'pct': 45.45}, 'functions': {'total': 7, 'covered': 2, 'skipped': 0, 'pct': 28.57}, 'statements': {'total': 52, 'covered': 21, 'skipped': 0, 'pct': 40.38}, 'branches': {'total': 17, 'covered': 4, 'skipped': 0, 'pct': 23.52}}\n",
      "churn: 41, test coverage: {'lines': {'total': 19, 'covered': 19, 'skipped': 0, 'pct': 100}, 'functions': {'total': 1, 'covered': 1, 'skipped': 0, 'pct': 100}, 'statements': {'total': 20, 'covered': 20, 'skipped': 0, 'pct': 100}, 'branches': {'total': 38, 'covered': 25, 'skipped': 0, 'pct': 65.78}}\n",
      "churn: 39, test coverage: {'lines': {'total': 17, 'covered': 15, 'skipped': 0, 'pct': 88.23}, 'functions': {'total': 1, 'covered': 0, 'skipped': 0, 'pct': 0}, 'statements': {'total': 30, 'covered': 15, 'skipped': 0, 'pct': 50}, 'branches': {'total': 12, 'covered': 8, 'skipped': 0, 'pct': 66.66}}\n",
      "churn: 36, test coverage: {'lines': {'total': 18, 'covered': 6, 'skipped': 0, 'pct': 33.33}, 'functions': {'total': 2, 'covered': 0, 'skipped': 0, 'pct': 0}, 'statements': {'total': 19, 'covered': 6, 'skipped': 0, 'pct': 31.57}, 'branches': {'total': 13, 'covered': 0, 'skipped': 0, 'pct': 0}}\n",
      "churn: 34, test coverage: {'lines': {'total': 52, 'covered': 1, 'skipped': 0, 'pct': 1.92}, 'functions': {'total': 7, 'covered': 0, 'skipped': 0, 'pct': 0}, 'statements': {'total': 54, 'covered': 1, 'skipped': 0, 'pct': 1.85}, 'branches': {'total': 29, 'covered': 0, 'skipped': 0, 'pct': 0}}\n"
     ]
    }
   ],
   "source": [
    "for key in list(code_churn.keys())[:5]:\n",
    "    print(key)\n",
    "\n",
    "for code_churn_key in list(code_churn.keys())[:500]:\n",
    "    if code_churn_key in code_test_coverage:\n",
    "        print(f'churn: {code_churn[code_churn_key]}, test coverage: {code_test_coverage[code_churn_key]}')\n",
    "    # else:\n",
    "    #     print('not tested')"
   ]
  }
 ],
 "metadata": {
  "kernelspec": {
   "display_name": "Python 3",
   "language": "python",
   "name": "python3"
  },
  "language_info": {
   "codemirror_mode": {
    "name": "ipython",
    "version": 3
   },
   "file_extension": ".py",
   "mimetype": "text/x-python",
   "name": "python",
   "nbconvert_exporter": "python",
   "pygments_lexer": "ipython3",
   "version": "3.10.12"
  }
 },
 "nbformat": 4,
 "nbformat_minor": 2
}
